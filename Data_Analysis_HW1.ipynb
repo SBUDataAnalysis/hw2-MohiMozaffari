{
  "cells": [
    {
      "cell_type": "markdown",
      "metadata": {
        "id": "bTWRY8Tz4GOb"
      },
      "source": [
        "# Random Walk\n"
      ]
    },
    {
      "cell_type": "markdown",
      "metadata": {
        "id": "z_lcmi6I4GOd"
      },
      "source": [
        "As a physics student sometimes you see some random movement in nature like brownian motion(it's actually deterministic). we can use stochastic litrature to study brownian motion and find lots of valuable information about this process. Random walk is somehow one of the most instructive models that can help you understand how random process can model the nature."
      ]
    },
    {
      "cell_type": "markdown",
      "metadata": {
        "id": "8IXItY9z4GOe"
      },
      "source": [
        "for the beging let's see what random walk is. according to Wikipedia(https://en.wikipedia.org/wiki/Random_walk) random walk is a mathematical object, known as a stochastic or random process, that describes a path that consists of a succession of random steps on some mathematical space such as the integers.\n",
        "\n",
        "An elementary example of a random walk is the random walk on the integer number line, ${\\displaystyle \\mathbb {Z} }$ , which starts at 0 and at each step moves +1 or −1 with equal probability. Other examples include the path traced by a molecule as it travels in a liquid or a gas (see Brownian motion), the search path of a foraging animal, the price of a fluctuating stock and the financial status of a gambler: all can be approximated by random walk models, even though they may not be truly random in reality."
      ]
    },
    {
      "cell_type": "markdown",
      "metadata": {
        "id": "KBXqctu64GOf"
      },
      "source": [
        "We know that you are passionate and want to explore all details of these process(joke :) ) but for the begining let's start with the simplest model, one dimensional random walk with same probability for right and left step."
      ]
    },
    {
      "cell_type": "markdown",
      "metadata": {
        "id": "Ez8HKpSy4GOg"
      },
      "source": [
        "1. the simplest model of random walk is a One-dimensional random walk, which starts at 0 and at each step moves +1 or −1 with equal probability. consider 10000_step 1d random walk. and use $10^5$ ensemble. in each ensemble begin from the origin(0) and record the endpoint at 10000th step. plot the PDF of these endpoints. also, calculate the first four moments of this PDF."
      ]
    },
    {
      "cell_type": "code",
      "execution_count": null,
      "metadata": {
        "id": "AjB6GbHv4GOi"
      },
      "outputs": [],
      "source": [
        "import numpy as np\n",
        "import seaborn as sns\n",
        "import matplotlib.pyplot as plt\n",
        "import scipy"
      ]
    },
    {
      "cell_type": "code",
      "source": [
        "def RandomWalk(n, p):\n",
        "  rand = np.random.binomial(1, p, n)\n",
        "  start = 0\n",
        "  for i in rand:\n",
        "    if i == 1:\n",
        "      start += 1\n",
        "    else:\n",
        "      start -= 1\n",
        "  return start"
      ],
      "metadata": {
        "id": "dhok7oQO-09k"
      },
      "execution_count": null,
      "outputs": []
    },
    {
      "cell_type": "code",
      "source": [
        "ensemble = []\n",
        "for i in range(10**5):\n",
        "  e = RandomWalk(1000, 0.5)\n",
        "  ensemble.append(e)"
      ],
      "metadata": {
        "id": "UIoGFMGLAQCB"
      },
      "execution_count": null,
      "outputs": []
    },
    {
      "cell_type": "code",
      "source": [
        "sns.set_theme()\n",
        "sns.displot(ensemble,bins = 50, kde=True)"
      ],
      "metadata": {
        "colab": {
          "base_uri": "https://localhost:8080/",
          "height": 383
        },
        "id": "rgLMZMW9A_07",
        "outputId": "ad47a987-7d9d-4929-da78-766cdea633c6"
      },
      "execution_count": null,
      "outputs": [
        {
          "output_type": "execute_result",
          "data": {
            "text/plain": [
              "<seaborn.axisgrid.FacetGrid at 0x7fbc9a3ac590>"
            ]
          },
          "metadata": {},
          "execution_count": 85
        },
        {
          "output_type": "display_data",
          "data": {
            "image/png": "[encoded data removed]",
            "text/plain": [
              "<Figure size 360x360 with 1 Axes>"
            ]
          },
          "metadata": {}
        }
      ]
    },
    {
      "cell_type": "code",
      "source": [
        "#1st moment and mean\n",
        "np.array(ensemble).mean()"
      ],
      "metadata": {
        "colab": {
          "base_uri": "https://localhost:8080/"
        },
        "id": "-McqghInUfg4",
        "outputId": "6f94e5bb-eadb-4235-ae7e-392b7cb51965"
      },
      "execution_count": null,
      "outputs": [
        {
          "output_type": "execute_result",
          "data": {
            "text/plain": [
              "-0.01142"
            ]
          },
          "metadata": {},
          "execution_count": 106
        }
      ]
    },
    {
      "cell_type": "code",
      "source": [
        "#2nd moment\n",
        "scipy.stats.moment(ensemble, moment=2)"
      ],
      "metadata": {
        "colab": {
          "base_uri": "https://localhost:8080/"
        },
        "id": "bcdHcRuDUoI5",
        "outputId": "2f9ae704-ad13-496d-d5da-9d48abafdf38"
      },
      "execution_count": null,
      "outputs": [
        {
          "output_type": "execute_result",
          "data": {
            "text/plain": [
              "1000.8746295836"
            ]
          },
          "metadata": {},
          "execution_count": 87
        }
      ]
    },
    {
      "cell_type": "code",
      "source": [
        "#variance\n",
        "np.array(ensemble).var()"
      ],
      "metadata": {
        "colab": {
          "base_uri": "https://localhost:8080/"
        },
        "id": "B-Kr7Z9Gbo_K",
        "outputId": "4cc1bc48-8753-4aea-dc32-72d1a20a2a87"
      },
      "execution_count": null,
      "outputs": [
        {
          "output_type": "execute_result",
          "data": {
            "text/plain": [
              "1000.8746295836"
            ]
          },
          "metadata": {},
          "execution_count": 109
        }
      ]
    },
    {
      "cell_type": "code",
      "source": [
        "#3rd moment\n",
        "scipy.stats.moment(ensemble, moment=3)"
      ],
      "metadata": {
        "colab": {
          "base_uri": "https://localhost:8080/"
        },
        "id": "9GS1BDjkUrEO",
        "outputId": "5ce52086-947a-46b7-d899-98648b5d0669"
      },
      "execution_count": null,
      "outputs": [
        {
          "output_type": "execute_result",
          "data": {
            "text/plain": [
              "308.6362862988928"
            ]
          },
          "metadata": {},
          "execution_count": 89
        }
      ]
    },
    {
      "cell_type": "code",
      "source": [
        "#skewness\n",
        "scipy.stats.skew(ensemble)"
      ],
      "metadata": {
        "colab": {
          "base_uri": "https://localhost:8080/"
        },
        "id": "o6wOpvhecEOm",
        "outputId": "dc012496-0952-4858-9f67-c23f745fb563"
      },
      "execution_count": null,
      "outputs": [
        {
          "output_type": "execute_result",
          "data": {
            "text/plain": [
              "0.009747145823942689"
            ]
          },
          "metadata": {},
          "execution_count": 90
        }
      ]
    },
    {
      "cell_type": "code",
      "source": [
        "#4th moment\n",
        "scipy.stats.moment(ensemble, moment=4)"
      ],
      "metadata": {
        "colab": {
          "base_uri": "https://localhost:8080/"
        },
        "id": "WDMQKUJRUt3j",
        "outputId": "7c4df67e-7456-4b77-b079-0ced4dfc5cd4"
      },
      "execution_count": null,
      "outputs": [
        {
          "output_type": "execute_result",
          "data": {
            "text/plain": [
              "3003891.7110027447"
            ]
          },
          "metadata": {},
          "execution_count": 91
        }
      ]
    },
    {
      "cell_type": "code",
      "source": [
        "#Curtosis\n",
        "scipy.stats.kurtosis(ensemble)"
      ],
      "metadata": {
        "colab": {
          "base_uri": "https://localhost:8080/"
        },
        "id": "rnvqJSzGcHn-",
        "outputId": "70f0de59-8a7d-4baf-fadf-bbad464de40b"
      },
      "execution_count": null,
      "outputs": [
        {
          "output_type": "execute_result",
          "data": {
            "text/plain": [
              "-0.0013559884171119307"
            ]
          },
          "metadata": {},
          "execution_count": 92
        }
      ]
    },
    {
      "cell_type": "markdown",
      "metadata": {
        "id": "W8YP_KmZ4GOl"
      },
      "source": [
        "now look at the plot you create. does it looklike a normal distribution? if yes isn't it strange cause we know that the probability is bionomial not guassian.\n"
      ]
    },
    {
      "cell_type": "code",
      "source": [
        "#yes,Hum..."
      ],
      "metadata": {
        "id": "UwzzDdkdhyGK"
      },
      "execution_count": null,
      "outputs": []
    },
    {
      "cell_type": "markdown",
      "metadata": {
        "id": "22oQFLND4GOr"
      },
      "source": [
        "2.change the probability of jumping to right and left in a way that $P_{left} = 2 P_{right}$ and then repeat the process of Q1 again and evaluate the PDF and first four moments and cumulants. "
      ]
    },
    {
      "cell_type": "code",
      "source": [
        "_ensemble = []\n",
        "for i in range(10**5):\n",
        "  e = RandomWalk(1000, 2/3)\n",
        "  _ensemble.append(e)"
      ],
      "metadata": {
        "id": "7y-MVOdke-gl"
      },
      "execution_count": null,
      "outputs": []
    },
    {
      "cell_type": "code",
      "source": [
        "sns.set_theme()\n",
        "sns.displot(_ensemble,bins = 50, kde=True)"
      ],
      "metadata": {
        "colab": {
          "base_uri": "https://localhost:8080/",
          "height": 383
        },
        "outputId": "51e8c791-a41c-4862-ce7b-82b4eb5ceb79",
        "id": "fLkmHcGJgmsm"
      },
      "execution_count": null,
      "outputs": [
        {
          "output_type": "execute_result",
          "data": {
            "text/plain": [
              "<seaborn.axisgrid.FacetGrid at 0x7fbc9a344e50>"
            ]
          },
          "metadata": {},
          "execution_count": 95
        },
        {
          "output_type": "display_data",
          "data": {
            "image/png": "[encoded data removed]",
            "text/plain": [
              "<Figure size 360x360 with 1 Axes>"
            ]
          },
          "metadata": {}
        }
      ]
    },
    {
      "cell_type": "code",
      "source": [
        "#1st moment and mean\n",
        "np.array(_ensemble).mean()"
      ],
      "metadata": {
        "colab": {
          "base_uri": "https://localhost:8080/"
        },
        "outputId": "999e8f39-488c-4aea-e6b4-92cf7551bf6d",
        "id": "HUao5lfagmsn"
      },
      "execution_count": null,
      "outputs": [
        {
          "output_type": "execute_result",
          "data": {
            "text/plain": [
              "333.34198"
            ]
          },
          "metadata": {},
          "execution_count": 112
        }
      ]
    },
    {
      "cell_type": "code",
      "source": [
        "#2nd moment\n",
        "scipy.stats.moment(_ensemble, moment=2)"
      ],
      "metadata": {
        "colab": {
          "base_uri": "https://localhost:8080/"
        },
        "outputId": "21faaf28-e6a0-4a4d-b0a3-dcb1c11852c1",
        "id": "TCUtneteghGv"
      },
      "execution_count": null,
      "outputs": [
        {
          "output_type": "execute_result",
          "data": {
            "text/plain": [
              "887.6016896796001"
            ]
          },
          "metadata": {},
          "execution_count": 113
        }
      ]
    },
    {
      "cell_type": "code",
      "source": [
        "#variance\n",
        "np.array(_ensemble).var()"
      ],
      "metadata": {
        "colab": {
          "base_uri": "https://localhost:8080/"
        },
        "outputId": "103fafab-de7c-4e09-9435-c987a05bcbf3",
        "id": "osp2BhaNghGw"
      },
      "execution_count": null,
      "outputs": [
        {
          "output_type": "execute_result",
          "data": {
            "text/plain": [
              "887.6016896796001"
            ]
          },
          "metadata": {},
          "execution_count": 111
        }
      ]
    },
    {
      "cell_type": "code",
      "source": [
        "#3rd moment\n",
        "scipy.stats.moment(_ensemble, moment=3)"
      ],
      "metadata": {
        "colab": {
          "base_uri": "https://localhost:8080/"
        },
        "outputId": "7171113a-b8aa-47e5-984f-432ab6905551",
        "id": "4KpMLbsjghGw"
      },
      "execution_count": null,
      "outputs": [
        {
          "output_type": "execute_result",
          "data": {
            "text/plain": [
              "-406.5638521804016"
            ]
          },
          "metadata": {},
          "execution_count": 114
        }
      ]
    },
    {
      "cell_type": "code",
      "source": [
        "#skewness\n",
        "scipy.stats.skew(ensemble)"
      ],
      "metadata": {
        "colab": {
          "base_uri": "https://localhost:8080/"
        },
        "outputId": "8abc71a7-918c-4322-965c-a13d88083fd7",
        "id": "Uy6WzIhTghGw"
      },
      "execution_count": null,
      "outputs": [
        {
          "output_type": "execute_result",
          "data": {
            "text/plain": [
              "-0.015374520581408568"
            ]
          },
          "metadata": {},
          "execution_count": 100
        }
      ]
    },
    {
      "cell_type": "code",
      "source": [
        "#4th moment\n",
        "scipy.stats.moment(_ensemble, moment=4)"
      ],
      "metadata": {
        "colab": {
          "base_uri": "https://localhost:8080/"
        },
        "outputId": "4988bb21-ef50-48be-9568-08f6ff8c4098",
        "id": "iHG6qN6-ghGx"
      },
      "execution_count": null,
      "outputs": [
        {
          "output_type": "execute_result",
          "data": {
            "text/plain": [
              "2372523.855735324"
            ]
          },
          "metadata": {},
          "execution_count": 101
        }
      ]
    },
    {
      "cell_type": "code",
      "source": [
        "#Curtosis\n",
        "scipy.stats.kurtosis(_ensemble)"
      ],
      "metadata": {
        "colab": {
          "base_uri": "https://localhost:8080/"
        },
        "outputId": "f380f28d-e9a3-45d2-c465-37369063bd9a",
        "id": "aXicL0X5ghGx"
      },
      "execution_count": null,
      "outputs": [
        {
          "output_type": "execute_result",
          "data": {
            "text/plain": [
              "0.011440919784637238"
            ]
          },
          "metadata": {},
          "execution_count": 102
        }
      ]
    },
    {
      "cell_type": "markdown",
      "metadata": {
        "id": "_C6QJdFA4GOt"
      },
      "source": [
        "according to your result, can you tell how the shape of PDF function related to its cumulants?"
      ]
    },
    {
      "cell_type": "markdown",
      "source": [
        "**1st cumulant → mean of data → function is symmatric around mean**\n",
        "\n",
        "**2nd cumulant → variance of data → standard deviation = $\\sqrt{variance}$ → About 68% of values drawn from a normal distribution are within one standard deviation**\n",
        "\n",
        "**3th cumulant → skewness → a skewness value greater than zero means that there is more weight in the right tail of the distribution**\n",
        "\n",
        "**4th cumulant → Curtosis → high kurtosis tend to have heavy tails**"
      ],
      "metadata": {
        "id": "3EOH4o-vuH9B"
      }
    },
    {
      "cell_type": "markdown",
      "source": [
        "![Illustration-of-the-skewness-and-kurtosis-values-and-how-they-correlate-with-the-shape-of_W640.jpg](data:image/jpeg;base64,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)"
      ],
      "metadata": {
        "id": "MPpZzF6ctBnP"
      }
    },
    {
      "cell_type": "markdown",
      "metadata": {
        "id": "GbNtRlfr4GOt"
      },
      "source": [
        "# Conditional Probability\n"
      ]
    },
    {
      "cell_type": "markdown",
      "metadata": {
        "id": "ddM9iHd04GOu"
      },
      "source": [
        "Suppose you're on a game show, and you're given the choice of three doors: Behind one door is a car; behind the others, goats. You pick a door, say No. 1, and the host, who knows what's behind the doors, opens another door, say No. 3, which has a goat. He then says to you, \"Do you want to pick door No. 2?\" Is it to your advantage to switch your choice? if Yes write a it's code to tell Us why and if your answer is No code it to prove the first group they are wrong:)"
      ]
    },
    {
      "cell_type": "code",
      "source": [
        "import numpy as np"
      ],
      "metadata": {
        "id": "KLLlyh-M9Bgj"
      },
      "execution_count": null,
      "outputs": []
    },
    {
      "cell_type": "code",
      "execution_count": null,
      "metadata": {
        "id": "Qxvok-sU4GOv"
      },
      "outputs": [],
      "source": [
        "def Monty():\n",
        "  doors = ['C', 'G', 'G']\n",
        "  np.random.shuffle(doors)\n",
        "  my_choice = np.random.choice([0, 1, 2])\n",
        "  stay = doors.pop(my_choice)\n",
        "  doors.remove('G')\n",
        "  switch = doors[0]\n",
        "  return stay, switch"
      ]
    },
    {
      "cell_type": "code",
      "source": [
        "Stay = []\n",
        "Switch = []\n",
        "n = 10**5\n",
        "for i in range(n):\n",
        "  st,sw = Monty()\n",
        "  Stay.append(st)\n",
        "  Switch.append(sw)"
      ],
      "metadata": {
        "id": "BoszOIzZHvsH"
      },
      "execution_count": null,
      "outputs": []
    },
    {
      "cell_type": "code",
      "source": [
        "print('Probability of wins without switching:', Stay.count('C') / n)\n",
        "print('Probability of wins with switching:', Switch.count('C') / n)\n"
      ],
      "metadata": {
        "colab": {
          "base_uri": "https://localhost:8080/"
        },
        "id": "V0XORuEWIxoh",
        "outputId": "e3b5ec14-4899-4f45-dda5-46a30f1e7a89"
      },
      "execution_count": null,
      "outputs": [
        {
          "output_type": "stream",
          "name": "stdout",
          "text": [
            "Probability of wins without switching: 0.33084\n",
            "Probability of wins with switching: 0.66916\n"
          ]
        }
      ]
    },
    {
      "cell_type": "markdown",
      "metadata": {
        "id": "6uotGk-K4GOv"
      },
      "source": [
        "# Centeral limit theorem"
      ]
    },
    {
      "cell_type": "markdown",
      "metadata": {
        "id": "_PqGrtXG4GOw"
      },
      "source": [
        "Choose a non-Gaussian distribution (uniform/bionomial/poission) and generate $10^5$ random variables for each of them.                                                      \n",
        "a) plot the PDF of samples you created .                                                   \n",
        "b) create $10^4$ random subset of length {2 , 5 , 10 , 20 , 100} from the first non-Gaussian distribution and caclculate mean of each subset, then plot the PDF of these means.                                                                       \n",
        "c) what do you understand form comparing the original distribution with those five?\n"
      ]
    },
    {
      "cell_type": "code",
      "source": [
        "import numpy as np\n",
        "import seaborn as sns\n",
        "import matplotlib.pyplot as plt"
      ],
      "metadata": {
        "id": "pmeIOfM4C4M6"
      },
      "execution_count": 52,
      "outputs": []
    },
    {
      "cell_type": "code",
      "execution_count": 57,
      "metadata": {
        "id": "0xwT5QLb4GOx"
      },
      "outputs": [],
      "source": [
        "rand = np.random.uniform(0,1,10**5)"
      ]
    },
    {
      "cell_type": "code",
      "source": [
        "sns.set_theme()\n",
        "sns.displot(rand, kde=True)\n",
        "plt.show()"
      ],
      "metadata": {
        "colab": {
          "base_uri": "https://localhost:8080/",
          "height": 364
        },
        "id": "njzjV0jxDIqZ",
        "outputId": "3c3f29d0-6ee4-4362-847b-469f90ad92e7"
      },
      "execution_count": 59,
      "outputs": [
        {
          "output_type": "display_data",
          "data": {
            "image/png": "[encoded data removed]",
            "text/plain": [
              "<Figure size 360x360 with 1 Axes>"
            ]
          },
          "metadata": {}
        }
      ]
    },
    {
      "cell_type": "code",
      "source": [
        "num_sub = [2 , 5 , 10 , 20 , 100]\n",
        "sub = []\n",
        "for n in num_sub:\n",
        "  for i in range(10**4):\n",
        "    sub.append(np.random.choice(rand, n, replace = False))"
      ],
      "metadata": {
        "id": "ZO8oaPI9EfXu"
      },
      "execution_count": 73,
      "outputs": []
    },
    {
      "cell_type": "code",
      "source": [
        "mean = []\n",
        "for s in sub:\n",
        "  mean.append(s.mean())"
      ],
      "metadata": {
        "id": "fton0DGaFvCm"
      },
      "execution_count": 74,
      "outputs": []
    },
    {
      "cell_type": "code",
      "source": [
        "sns.displot(mean, kde=True)\n",
        "plt.show()"
      ],
      "metadata": {
        "colab": {
          "base_uri": "https://localhost:8080/",
          "height": 364
        },
        "id": "t17sm0P1Gaa5",
        "outputId": "696af9ab-7d1e-4617-b38a-2b14e9991843"
      },
      "execution_count": 75,
      "outputs": [
        {
          "output_type": "display_data",
          "data": {
            "image/png": "[encoded data removed]",
            "text/plain": [
              "<Figure size 360x360 with 1 Axes>"
            ]
          },
          "metadata": {}
        }
      ]
    },
    {
      "cell_type": "markdown",
      "source": [
        "**The distribution of the sample means will be approximately normally distributed**"
      ],
      "metadata": {
        "id": "BxtLdLJtIFJB"
      }
    },
    {
      "cell_type": "markdown",
      "metadata": {
        "id": "idopydEd4GOx"
      },
      "source": [
        "# Poission Approximation"
      ]
    },
    {
      "cell_type": "markdown",
      "metadata": {
        "id": "o4ZJrWJS4GOy"
      },
      "source": [
        "Use python libraries to generate bionomial and poission distributions for different N’s (remember $\\lambda =NP$). Over plot them for N = {5, 10, 20, 50, 100, 200, 1000}\n",
        "How does it behave as N increases? \n",
        "\n"
      ]
    },
    {
      "cell_type": "code",
      "source": [
        "import numpy as np\n",
        "import pandas as pd"
      ],
      "metadata": {
        "id": "XfNF3CN3Jmce"
      },
      "execution_count": 124,
      "outputs": []
    },
    {
      "cell_type": "code",
      "source": [
        "N = [5, 10, 20, 50, 100, 200, 1000]\n",
        "p = 0.5\n",
        "size = 10**4\n",
        "data_b = pd.DataFrame(columns = N)\n",
        "data_p = pd.DataFrame(columns = N)\n",
        "for n in N:\n",
        "  rand_b = np.random.binomial(n, p , size)\n",
        "  rand_p = np.random.poisson(n*p, size)\n",
        "  data_b[n] = rand_b\n",
        "  data_p[n] = rand_p"
      ],
      "metadata": {
        "id": "Skhyx5pWO-GW"
      },
      "execution_count": 141,
      "outputs": []
    },
    {
      "cell_type": "code",
      "source": [
        "result = pd.concat([data_b, data_p], axis=1)"
      ],
      "metadata": {
        "id": "E9N6wwByRJYD"
      },
      "execution_count": 147,
      "outputs": []
    },
    {
      "cell_type": "code",
      "source": [
        "sns.displot(result)"
      ],
      "metadata": {
        "colab": {
          "base_uri": "https://localhost:8080/",
          "height": 383
        },
        "id": "K--XLjtEKKOo",
        "outputId": "93023b60-978b-4a85-e418-c6accfe83d18"
      },
      "execution_count": 148,
      "outputs": [
        {
          "output_type": "execute_result",
          "data": {
            "text/plain": [
              "<seaborn.axisgrid.FacetGrid at 0x7fb80a689c10>"
            ]
          },
          "metadata": {},
          "execution_count": 148
        },
        {
          "output_type": "display_data",
          "data": {
            "image/png": "[encoded data removed]",
            "text/plain": [
              "<Figure size 427.6x360 with 1 Axes>"
            ]
          },
          "metadata": {}
        }
      ]
    },
    {
      "cell_type": "markdown",
      "metadata": {
        "id": "PmD2vwOG4GOy"
      },
      "source": [
        "# Box Muller Method"
      ]
    },
    {
      "cell_type": "markdown",
      "metadata": {
        "id": "h4P4ovb64GOz"
      },
      "source": [
        "1- generate Normal distribution from uniform distribution (Box-Muller algorithm(https://en.wikipedia.org/wiki/Box%E2%80%93Muller_transform)- do not need to derive and prove it. the topic will be included in lectures in the following week). Normal= zero mean, unit variance    \n",
        "a)Sample many points from this distribution. plot the pdf of the sample (plot hist).             \n",
        "                              \n"
      ]
    },
    {
      "cell_type": "code",
      "execution_count": null,
      "metadata": {
        "id": "AxeGXKOg4GOz"
      },
      "outputs": [],
      "source": [
        "#code here"
      ]
    },
    {
      "cell_type": "markdown",
      "metadata": {
        "id": "PMRo1uFN4GO0"
      },
      "source": [
        "b)Calculate mean of the sample. Its variance."
      ]
    },
    {
      "cell_type": "code",
      "execution_count": null,
      "metadata": {
        "id": "O2mUrK_74GO2"
      },
      "outputs": [],
      "source": [
        "#code here"
      ]
    },
    {
      "cell_type": "markdown",
      "metadata": {
        "id": "gcmI0uWf4GO3"
      },
      "source": [
        "c)Overplot the pdf now, using this mean and variance (on the plot hist). Also use the mean and std deviation functions from python library. Do they agree?"
      ]
    },
    {
      "cell_type": "code",
      "execution_count": null,
      "metadata": {
        "id": "J_9ETc3f4GO3"
      },
      "outputs": [],
      "source": [
        "#code here"
      ]
    },
    {
      "cell_type": "markdown",
      "metadata": {
        "id": "xmOunu4K4GO3"
      },
      "source": [
        "d)Now that you have your Normal distribution, how can you turn it into a Gaussian distribution with  given mean and variance? For example mean=2, and std dev=4 ?   "
      ]
    },
    {
      "cell_type": "code",
      "execution_count": null,
      "metadata": {
        "id": "eOioz9Hp4GO4"
      },
      "outputs": [],
      "source": [
        "#code here"
      ]
    },
    {
      "cell_type": "markdown",
      "metadata": {
        "id": "viSSS8fL4GO4"
      },
      "source": [
        "there are two problems left, but you can choose one of them to solve.(we highly recommend you to solve both of them)"
      ]
    },
    {
      "cell_type": "markdown",
      "metadata": {
        "id": "zO1jt6wX4GO4"
      },
      "source": [
        "# Nice Matrix"
      ]
    },
    {
      "cell_type": "markdown",
      "metadata": {
        "id": "4p0B86sc4GO5"
      },
      "source": [
        "A matrix of size n$\\times$n which include numbers of {1,2,3,...,$n^2$} is called nice, if sum of all rows and columns  are the same. write a code that get n as a input and return a n$\\times$n Nice Matrix. print out the examples of Nice Matrix for n = 4,5,6"
      ]
    },
    {
      "cell_type": "code",
      "source": [
        "import numpy as np"
      ],
      "metadata": {
        "id": "meQ4BREMV2m4"
      },
      "execution_count": null,
      "outputs": []
    },
    {
      "cell_type": "code",
      "source": [
        "def GenerateNiceMatrix(N):\n",
        "  matrix = np.zeros((N,N), dtype=int)\n",
        "  if N%2 == 1:\n",
        "    n = 1\n",
        "    i, j = 0, N//2\n",
        "\n",
        "    while n <= N**2:\n",
        "        matrix[i, j] = n\n",
        "        n += 1\n",
        "        newi, newj = (i-1) % N, (j+1)% N\n",
        "        if matrix[newi, newj]:\n",
        "            i += 1\n",
        "        else:\n",
        "            i, j = newi, newj\n",
        "  \n",
        "  elif N % 4 == 0:\n",
        "    pass\n",
        "  else:\n",
        "    pass"
      ],
      "metadata": {
        "id": "LA3_HLlkbgKd"
      },
      "execution_count": 40,
      "outputs": []
    },
    {
      "cell_type": "markdown",
      "metadata": {
        "id": "ATXSyOER4GO5"
      },
      "source": [
        "# Honest and Liers"
      ]
    },
    {
      "cell_type": "markdown",
      "metadata": {
        "id": "xtwtljJK4GO5"
      },
      "source": [
        "Suppose there 16 People sit around a circular table.  ٍEach claims that the two people next to him/her are liars. How many liars are there in the crowd? "
      ]
    },
    {
      "cell_type": "code",
      "execution_count": null,
      "metadata": {
        "id": "3bZ8UqjK4GO6"
      },
      "outputs": [],
      "source": [
        "#code here "
      ]
    }
  ],
  "metadata": {
    "hide_input": false,
    "kernelspec": {
      "display_name": "Python 3",
      "language": "python",
      "name": "python3"
    },
    "language_info": {
      "codemirror_mode": {
        "name": "ipython",
        "version": 3
      },
      "file_extension": ".py",
      "mimetype": "text/x-python",
      "name": "python",
      "nbconvert_exporter": "python",
      "pygments_lexer": "ipython3",
      "version": "3.7.0"
    },
    "toc": {
      "base_numbering": 1,
      "nav_menu": {},
      "number_sections": true,
      "sideBar": true,
      "skip_h1_title": false,
      "title_cell": "Table of Contents",
      "title_sidebar": "Contents",
      "toc_cell": false,
      "toc_position": {
        "height": "calc(100% - 180px)",
        "left": "10px",
        "top": "150px",
        "width": "165px"
      },
      "toc_section_display": true,
      "toc_window_display": true
    },
    "colab": {
      "name": "Data_Analysis_HW1.ipynb",
      "provenance": [],
      "collapsed_sections": []
    }
  },
  "nbformat": 4,
  "nbformat_minor": 0
}