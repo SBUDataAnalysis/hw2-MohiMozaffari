{
  "cells": [
    {
      "cell_type": "markdown",
      "metadata": {
        "id": "7DTrvHJQ4GOU"
      },
      "source": [
        "![1d_randomwalk.png](attachment:1d_randomwalk.png)"
      ]
    },
    {
      "cell_type": "markdown",
      "metadata": {
        "id": "bTWRY8Tz4GOb"
      },
      "source": [
        "# Random Walk\n"
      ]
    },
    {
      "cell_type": "markdown",
      "metadata": {
        "id": "z_lcmi6I4GOd"
      },
      "source": [
        "As a physics student sometimes you see some random movement in nature like brownian motion(it's actually deterministic). we can use stochastic litrature to study brownian motion and find lots of valuable information about this process. Random walk is somehow one of the most instructive models that can help you understand how random process can model the nature."
      ]
    },
    {
      "cell_type": "markdown",
      "metadata": {
        "id": "8IXItY9z4GOe"
      },
      "source": [
        "for the beging let's see what random walk is. according to Wikipedia(https://en.wikipedia.org/wiki/Random_walk) random walk is a mathematical object, known as a stochastic or random process, that describes a path that consists of a succession of random steps on some mathematical space such as the integers.\n",
        "\n",
        "An elementary example of a random walk is the random walk on the integer number line, ${\\displaystyle \\mathbb {Z} }$ , which starts at 0 and at each step moves +1 or −1 with equal probability. Other examples include the path traced by a molecule as it travels in a liquid or a gas (see Brownian motion), the search path of a foraging animal, the price of a fluctuating stock and the financial status of a gambler: all can be approximated by random walk models, even though they may not be truly random in reality."
      ]
    },
    {
      "cell_type": "markdown",
      "metadata": {
        "id": "KBXqctu64GOf"
      },
      "source": [
        "We know that you are passionate and want to explore all details of these process(joke :) ) but for the begining let's start with the simplest model, one dimensional random walk with same probability for right and left step."
      ]
    },
    {
      "cell_type": "markdown",
      "metadata": {
        "id": "Ez8HKpSy4GOg"
      },
      "source": [
        "1. the simplest model of random walk is a One-dimensional random walk, which starts at 0 and at each step moves +1 or −1 with equal probability. consider 10000_step 1d random walk. and use $10^5$ ensemble. in each ensemble begin from the origin(0) and record the endpoint at 10000th step. plot the PDF of these endpoints. also, calculate the first four moments of this PDF."
      ]
    },
    {
      "cell_type": "code",
      "execution_count": 28,
      "metadata": {
        "id": "AjB6GbHv4GOi"
      },
      "outputs": [],
      "source": [
        "import numpy as np\n",
        "import seaborn as sns\n",
        "import matplotlib.pyplot as plt"
      ]
    },
    {
      "cell_type": "code",
      "source": [
        "np.random.binomial(1, 0.5, 20)"
      ],
      "metadata": {
        "colab": {
          "base_uri": "https://localhost:8080/"
        },
        "id": "Fj_E4veR9XyN",
        "outputId": "92278aef-96ea-4275-c479-5ae3def3ac88"
      },
      "execution_count": 14,
      "outputs": [
        {
          "output_type": "execute_result",
          "data": {
            "text/plain": [
              "array([1, 1, 0, 0, 1, 0, 0, 1, 0, 1, 0, 0, 1, 0, 1, 1, 1, 1, 0, 0])"
            ]
          },
          "metadata": {},
          "execution_count": 14
        }
      ]
    },
    {
      "cell_type": "code",
      "source": [
        "def RandomWalk(n):\n",
        "  rand = np.random.binomial(1, 0.5, n)\n",
        "  start = 0\n",
        "  for i in rand:\n",
        "    if i == 1:\n",
        "      start += 1\n",
        "    else:\n",
        "      start -= 1\n",
        "  return start"
      ],
      "metadata": {
        "id": "dhok7oQO-09k"
      },
      "execution_count": 15,
      "outputs": []
    },
    {
      "cell_type": "code",
      "source": [
        "ensemble = []\n",
        "for i in range(10**5):\n",
        "  e = RandomWalk(1000)\n",
        "  ensemble.append(e)"
      ],
      "metadata": {
        "id": "UIoGFMGLAQCB"
      },
      "execution_count": 22,
      "outputs": []
    },
    {
      "cell_type": "code",
      "source": [
        "sns.set_theme()\n",
        "sns.displot(ensemble,bins = 50, kde=True)"
      ],
      "metadata": {
        "colab": {
          "base_uri": "https://localhost:8080/",
          "height": 383
        },
        "id": "rgLMZMW9A_07",
        "outputId": "a87a93a0-210f-4bc2-96a6-62081fa09f44"
      },
      "execution_count": 51,
      "outputs": [
        {
          "output_type": "execute_result",
          "data": {
            "text/plain": [
              "<seaborn.axisgrid.FacetGrid at 0x7fe095cb7f90>"
            ]
          },
          "metadata": {},
          "execution_count": 51
        },
        {
          "output_type": "display_data",
          "data": {
            "image/png": "[encoded data removed]",
            "text/plain": [
              "<Figure size 360x360 with 1 Axes>"
            ]
          },
          "metadata": {}
        }
      ]
    },
    {
      "cell_type": "markdown",
      "metadata": {
        "id": "W8YP_KmZ4GOl"
      },
      "source": [
        "now look at the plot you create. does it looklike a normal distribution? if yes isn't it strange cause we know that the probability is bionomial not guassian.\n"
      ]
    },
    {
      "cell_type": "code",
      "execution_count": null,
      "metadata": {
        "id": "TD6KS_Qk4GOo"
      },
      "outputs": [],
      "source": [
        "#explain here"
      ]
    },
    {
      "cell_type": "markdown",
      "metadata": {
        "id": "22oQFLND4GOr"
      },
      "source": [
        "2.change the probability of jumping to right and left in a way that $P_{left} = 2 P_{right}$ and then repeat the process of Q1 again and evaluate the PDF and first four moments and cumulants. "
      ]
    },
    {
      "cell_type": "code",
      "execution_count": null,
      "metadata": {
        "id": "6y0Gm9Pd4GOs"
      },
      "outputs": [],
      "source": [
        "#code here"
      ]
    },
    {
      "cell_type": "markdown",
      "metadata": {
        "id": "_C6QJdFA4GOt"
      },
      "source": [
        "according to your result, can you tell how the shape of PDF function related to its cumulants?"
      ]
    },
    {
      "cell_type": "code",
      "execution_count": null,
      "metadata": {
        "id": "zhxV5kQv4GOt"
      },
      "outputs": [],
      "source": [
        "#explain here"
      ]
    },
    {
      "cell_type": "markdown",
      "metadata": {
        "id": "GbNtRlfr4GOt"
      },
      "source": [
        "# Conditional Probability\n"
      ]
    },
    {
      "cell_type": "markdown",
      "metadata": {
        "id": "1-XAKkQE4GOu"
      },
      "source": [
        "![.jpg](attachment:.jpg)"
      ]
    },
    {
      "cell_type": "markdown",
      "metadata": {
        "id": "ddM9iHd04GOu"
      },
      "source": [
        "Suppose you're on a game show, and you're given the choice of three doors: Behind one door is a car; behind the others, goats. You pick a door, say No. 1, and the host, who knows what's behind the doors, opens another door, say No. 3, which has a goat. He then says to you, \"Do you want to pick door No. 2?\" Is it to your advantage to switch your choice? if Yes write a it's code to tell Us why and if your answer is No code it to prove the first group they are wrong:)"
      ]
    },
    {
      "cell_type": "code",
      "execution_count": null,
      "metadata": {
        "id": "Qxvok-sU4GOv"
      },
      "outputs": [],
      "source": [
        "#code here"
      ]
    },
    {
      "cell_type": "markdown",
      "metadata": {
        "id": "6uotGk-K4GOv"
      },
      "source": [
        "# Centeral limit theorem"
      ]
    },
    {
      "cell_type": "markdown",
      "metadata": {
        "id": "_PqGrtXG4GOw"
      },
      "source": [
        "Choose a non-Gaussian distribution (uniform/bionomial/poission) and generate $10^5$ random variables for each of them.                                                      \n",
        "a) plot the PDF of samples you created .                                                   \n",
        "b) create $10^4$ random subset of length {2 , 5 , 10 , 20 , 100} from the first non-Gaussian distribution and caclculate mean of each subset, then plot the PDF of these means.                                                                       \n",
        "c) what do you understand form comparing the original distribution with those five?\n"
      ]
    },
    {
      "cell_type": "code",
      "execution_count": null,
      "metadata": {
        "id": "0xwT5QLb4GOx"
      },
      "outputs": [],
      "source": [
        "#code here"
      ]
    },
    {
      "cell_type": "markdown",
      "metadata": {
        "id": "idopydEd4GOx"
      },
      "source": [
        "# Poission Approximation"
      ]
    },
    {
      "cell_type": "markdown",
      "metadata": {
        "id": "o4ZJrWJS4GOy"
      },
      "source": [
        "Use python libraries to generate bionomial and poission distributions for different N’s (remember $\\lambda =NP$). Over plot them for N = {5, 10, 20, 50, 100, 200, 1000}\n",
        "How does it behave as N increases? \n",
        "\n"
      ]
    },
    {
      "cell_type": "code",
      "execution_count": null,
      "metadata": {
        "id": "TIXVeUIG4GOy"
      },
      "outputs": [],
      "source": [
        "#code here"
      ]
    },
    {
      "cell_type": "markdown",
      "metadata": {
        "id": "PmD2vwOG4GOy"
      },
      "source": [
        "# Box Muller Method"
      ]
    },
    {
      "cell_type": "markdown",
      "metadata": {
        "id": "h4P4ovb64GOz"
      },
      "source": [
        "1- generate Normal distribution from uniform distribution (Box-Muller algorithm(https://en.wikipedia.org/wiki/Box%E2%80%93Muller_transform)- do not need to derive and prove it. the topic will be included in lectures in the following week). Normal= zero mean, unit variance    \n",
        "a)Sample many points from this distribution. plot the pdf of the sample (plot hist).             \n",
        "                              \n"
      ]
    },
    {
      "cell_type": "code",
      "execution_count": null,
      "metadata": {
        "id": "AxeGXKOg4GOz"
      },
      "outputs": [],
      "source": [
        "#code here"
      ]
    },
    {
      "cell_type": "markdown",
      "metadata": {
        "id": "PMRo1uFN4GO0"
      },
      "source": [
        "b)Calculate mean of the sample. Its variance."
      ]
    },
    {
      "cell_type": "code",
      "execution_count": null,
      "metadata": {
        "id": "O2mUrK_74GO2"
      },
      "outputs": [],
      "source": [
        "#code here"
      ]
    },
    {
      "cell_type": "markdown",
      "metadata": {
        "id": "gcmI0uWf4GO3"
      },
      "source": [
        "c)Overplot the pdf now, using this mean and variance (on the plot hist). Also use the mean and std deviation functions from python library. Do they agree?"
      ]
    },
    {
      "cell_type": "code",
      "execution_count": null,
      "metadata": {
        "id": "J_9ETc3f4GO3"
      },
      "outputs": [],
      "source": [
        "#code here"
      ]
    },
    {
      "cell_type": "markdown",
      "metadata": {
        "id": "xmOunu4K4GO3"
      },
      "source": [
        "d)Now that you have your Normal distribution, how can you turn it into a Gaussian distribution with  given mean and variance? For example mean=2, and std dev=4 ?   "
      ]
    },
    {
      "cell_type": "code",
      "execution_count": null,
      "metadata": {
        "id": "eOioz9Hp4GO4"
      },
      "outputs": [],
      "source": [
        "#code here"
      ]
    },
    {
      "cell_type": "markdown",
      "metadata": {
        "id": "viSSS8fL4GO4"
      },
      "source": [
        "there are two problems left, but you can choose one of them to solve.(we highly recommend you to solve both of them)"
      ]
    },
    {
      "cell_type": "markdown",
      "metadata": {
        "id": "zO1jt6wX4GO4"
      },
      "source": [
        "# Nice Matrix"
      ]
    },
    {
      "cell_type": "markdown",
      "metadata": {
        "id": "4p0B86sc4GO5"
      },
      "source": [
        "A matrix of size n$\\times$n which include numbers of {1,2,3,...,$n^2$} is called nice, if sum of all rows and columns  are the same. write a code that get n as a input and return a n$\\times$n Nice Matrix. print out the examples of Nice Matrix for n = 4,5,6"
      ]
    },
    {
      "cell_type": "code",
      "execution_count": null,
      "metadata": {
        "id": "rOFFYlcP4GO5"
      },
      "outputs": [],
      "source": [
        "#code here"
      ]
    },
    {
      "cell_type": "markdown",
      "metadata": {
        "id": "ATXSyOER4GO5"
      },
      "source": [
        "# Honest and Liers"
      ]
    },
    {
      "cell_type": "markdown",
      "metadata": {
        "id": "xtwtljJK4GO5"
      },
      "source": [
        "Suppose there 16 People sit around a circular table.  ٍEach claims that the two people next to him/her are liars. How many liars are there in the crowd? "
      ]
    },
    {
      "cell_type": "code",
      "execution_count": null,
      "metadata": {
        "id": "3bZ8UqjK4GO6"
      },
      "outputs": [],
      "source": [
        "#code here "
      ]
    }
  ],
  "metadata": {
    "hide_input": false,
    "kernelspec": {
      "display_name": "Python 3",
      "language": "python",
      "name": "python3"
    },
    "language_info": {
      "codemirror_mode": {
        "name": "ipython",
        "version": 3
      },
      "file_extension": ".py",
      "mimetype": "text/x-python",
      "name": "python",
      "nbconvert_exporter": "python",
      "pygments_lexer": "ipython3",
      "version": "3.7.0"
    },
    "toc": {
      "base_numbering": 1,
      "nav_menu": {},
      "number_sections": true,
      "sideBar": true,
      "skip_h1_title": false,
      "title_cell": "Table of Contents",
      "title_sidebar": "Contents",
      "toc_cell": false,
      "toc_position": {
        "height": "calc(100% - 180px)",
        "left": "10px",
        "top": "150px",
        "width": "165px"
      },
      "toc_section_display": true,
      "toc_window_display": true
    },
    "colab": {
      "name": "Data_Analysis_HW1.ipynb",
      "provenance": [],
      "collapsed_sections": []
    }
  },
  "nbformat": 4,
  "nbformat_minor": 0
}